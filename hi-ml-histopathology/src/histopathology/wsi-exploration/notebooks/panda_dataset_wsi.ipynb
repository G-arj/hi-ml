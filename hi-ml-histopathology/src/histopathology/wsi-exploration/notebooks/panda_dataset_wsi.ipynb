{
 "cells": [
  {
   "cell_type": "code",
   "execution_count": 35,
   "metadata": {},
   "outputs": [],
   "source": [
    "import cucim\n",
    "import sys\n",
    "sys.path.insert(0,'../..')\n",
    "import os\n",
    "import pandas as pd\n",
    "import numpy as np\n",
    "from histopathology.datasets.base_dataset import SlidesDataset\n",
    "import preprocessing.tiling as tiling"
   ]
  },
  {
   "cell_type": "markdown",
   "metadata": {},
   "source": [
    "## Setup and utils"
   ]
  },
  {
   "cell_type": "code",
   "execution_count": 16,
   "metadata": {},
   "outputs": [],
   "source": [
    "root_path = \"/tmp/datasets\"\n",
    "input_file =  os.path.join(root_path, \"train_images/0005f7aaab2800f6170c399693a96917.tiff\")\n",
    "train_csv = os.path.join(root_path, \"train.csv\")"
   ]
  },
  {
   "cell_type": "code",
   "execution_count": 17,
   "metadata": {},
   "outputs": [],
   "source": [
    "from matplotlib import pyplot as plt\n",
    "def visualize(image, dpi=80.0):\n",
    "    height, width, _ = image.shape\n",
    "    plt.figure(figsize=(width / dpi, height / dpi))\n",
    "    plt.axis('off')\n",
    "    plt.imshow(image)"
   ]
  },
  {
   "cell_type": "code",
   "execution_count": 20,
   "metadata": {},
   "outputs": [],
   "source": [
    "from pathlib import Path\n",
    "from typing import Union, Optional\n",
    "class PandaDataset(SlidesDataset):\n",
    "    \"\"\"Dataset class for loading files from the PANDA challenge dataset.\n",
    "\n",
    "    Iterating over this dataset returns a dictionary following the `SlideKey` schema plus meta-data\n",
    "    from the original dataset (`'data_provider'`, `'isup_grade'`, and `'gleason_score'`).\n",
    "\n",
    "    Ref.: https://www.kaggle.com/c/prostate-cancer-grade-assessment/overview\n",
    "    \"\"\"\n",
    "    SLIDE_ID_COLUMN = 'image_id'\n",
    "    IMAGE_COLUMN = 'image'\n",
    "    MASK_COLUMN = 'mask'\n",
    "    LABEL_COLUMN = 'isup_grade'\n",
    "\n",
    "    METADATA_COLUMNS = ('data_provider', 'isup_grade', 'gleason_score')\n",
    "\n",
    "    DEFAULT_CSV_FILENAME = \"train.csv\"\n",
    "\n",
    "    def __init__(self,\n",
    "                 root: Union[str, Path],\n",
    "                 dataset_csv: Optional[Union[str, Path]] = None,\n",
    "                 dataset_df: Optional[pd.DataFrame] = None) -> None:\n",
    "        super().__init__(root, dataset_csv, dataset_df, validate_columns=False)\n",
    "        # PANDA CSV does not come with paths for image and mask files\n",
    "        slide_ids = self.dataset_df.index\n",
    "        self.dataset_df[self.IMAGE_COLUMN] = \"train_images/\" + slide_ids + \".tiff\"\n",
    "        self.dataset_df[self.MASK_COLUMN] = \"train_label_masks/\" + slide_ids + \"_mask.tiff\"\n",
    "        self.validate_columns()"
   ]
  },
  {
   "cell_type": "markdown",
   "metadata": {},
   "source": [
    "## Load Slide Dataset"
   ]
  },
  {
   "cell_type": "code",
   "execution_count": 30,
   "metadata": {},
   "outputs": [
    {
     "data": {
      "text/plain": [
       "dict_keys([<SlideKey.SLIDE_ID: 'slide_id'>, <SlideKey.IMAGE: 'image'>, <SlideKey.IMAGE_PATH: 'image_path'>, <SlideKey.MASK: 'mask'>, <SlideKey.MASK_PATH: 'mask_path'>, <SlideKey.LABEL: 'label'>, <SlideKey.METADATA: 'metadata'>])"
      ]
     },
     "execution_count": 30,
     "metadata": {},
     "output_type": "execute_result"
    }
   ],
   "source": [
    "dataset = PandaDataset(root=root_path)\n",
    "slide = dataset.__getitem__(0)\n",
    "slide.keys()"
   ]
  },
  {
   "cell_type": "code",
   "execution_count": 36,
   "metadata": {},
   "outputs": [
    {
     "data": {
      "text/plain": [
       "'/tmp/datasets/train_images/0005f7aaab2800f6170c399693a96917.tiff'"
      ]
     },
     "execution_count": 36,
     "metadata": {},
     "output_type": "execute_result"
    }
   ],
   "source": [
    "slide[\"image\"]"
   ]
  },
  {
   "cell_type": "code",
   "execution_count": null,
   "metadata": {},
   "outputs": [],
   "source": [
    "tiling"
   ]
  }
 ],
 "metadata": {
  "interpreter": {
   "hash": "52202c07bdfbca3d4c5865ae6864454e7d6ea43486cb431d96646f705f40329b"
  },
  "kernelspec": {
   "display_name": "Python 3.7.3 ('HimlHisto')",
   "language": "python",
   "name": "python3"
  },
  "language_info": {
   "codemirror_mode": {
    "name": "ipython",
    "version": 3
   },
   "file_extension": ".py",
   "mimetype": "text/x-python",
   "name": "python",
   "nbconvert_exporter": "python",
   "pygments_lexer": "ipython3",
   "version": "3.7.3"
  },
  "orig_nbformat": 4
 },
 "nbformat": 4,
 "nbformat_minor": 2
}
